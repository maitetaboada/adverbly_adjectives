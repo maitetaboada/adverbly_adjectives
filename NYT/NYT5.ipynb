{
 "cells": [
  {
   "cell_type": "code",
   "execution_count": 1,
   "metadata": {},
   "outputs": [],
   "source": [
    "import pandas as pd\n",
    "import numpy as np\n",
    "import sys, os, re, time\n",
    "from collections import defaultdict\n",
    "import uuid"
   ]
  },
  {
   "cell_type": "code",
   "execution_count": 2,
   "metadata": {},
   "outputs": [],
   "source": [
    "df = pd.read_csv('nyt_movie_reviews.csv', parse_dates=['opening_date', 'publication_date', 'date_updated']).reset_index()"
   ]
  },
  {
   "cell_type": "code",
   "execution_count": 3,
   "metadata": {},
   "outputs": [],
   "source": [
    "reviews_dir = os.listdir('nyt_articles/')\n",
    "\n",
    "reviews = []\n",
    "\n",
    "for file in reviews_dir:\n",
    "#     print(file)\n",
    "    if file.endswith('.txt'):\n",
    "        f_id = int(file.split('.txt')[0])\n",
    "        with open('nyt_articles/' + file, 'r+', encoding='utf-8') as fo:\n",
    "            text = fo.read()\n",
    "        reviews.append([f_id, text])"
   ]
  },
  {
   "cell_type": "code",
   "execution_count": 4,
   "metadata": {},
   "outputs": [],
   "source": [
    "reviews_df = pd.DataFrame.from_records(reviews, columns=['index', 'review'])"
   ]
  },
  {
   "cell_type": "code",
   "execution_count": 5,
   "metadata": {},
   "outputs": [],
   "source": [
    "final_df = reviews_df.merge(df, on='index', how='left').drop('index', axis=1)"
   ]
  },
  {
   "cell_type": "code",
   "execution_count": 6,
   "metadata": {},
   "outputs": [],
   "source": [
    "isIndexUnique = False\n",
    "while not isIndexUnique:\n",
    "    uuid_col = final_df.apply(lambda x : uuid.uuid4(), axis=1)\n",
    "    if len(uuid_col.unique()) == len(final_df):\n",
    "        isIndexUnique = True\n",
    "        \n",
    "final_df.index = uuid_col"
   ]
  },
  {
   "cell_type": "code",
   "execution_count": 7,
   "metadata": {},
   "outputs": [],
   "source": [
    "final_df.to_csv('nyt_reviews_all.csv')"
   ]
  }
 ],
 "metadata": {
  "kernelspec": {
   "display_name": "Python 3",
   "language": "python",
   "name": "python3"
  },
  "language_info": {
   "codemirror_mode": {
    "name": "ipython",
    "version": 3
   },
   "file_extension": ".py",
   "mimetype": "text/x-python",
   "name": "python",
   "nbconvert_exporter": "python",
   "pygments_lexer": "ipython3",
   "version": "3.5.6"
  }
 },
 "nbformat": 4,
 "nbformat_minor": 2
}
