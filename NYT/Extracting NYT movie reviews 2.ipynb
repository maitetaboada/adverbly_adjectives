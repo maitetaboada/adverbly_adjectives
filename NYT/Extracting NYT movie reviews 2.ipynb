{
 "cells": [
  {
   "cell_type": "code",
   "execution_count": 1,
   "metadata": {},
   "outputs": [],
   "source": [
    "import requests\n",
    "import pandas as pd\n",
    "import numpy as np\n",
    "import sys, os, re, time\n",
    "import json, csv\n",
    "from bs4 import BeautifulSoup\n",
    "from collections import defaultdict"
   ]
  },
  {
   "cell_type": "code",
   "execution_count": 2,
   "metadata": {},
   "outputs": [],
   "source": [
    "df = pd.DataFrame()"
   ]
  },
  {
   "cell_type": "code",
   "execution_count": 3,
   "metadata": {},
   "outputs": [
    {
     "name": "stdout",
     "output_type": "stream",
     "text": [
      "nyt_reviews_part1.csv\n",
      "nyt_reviews_part2.csv\n",
      "nyt_reviews_part3.csv\n",
      "nyt_reviews_part7.csv\n",
      "nyt_reviews_part6.csv\n",
      "nyt_reviews_part4.csv\n",
      "nyt_reviews_part5.csv\n"
     ]
    }
   ],
   "source": [
    "review_dir = 'nyt_reviews/'\n",
    "for f in os.listdir(review_dir):\n",
    "    print(f)\n",
    "    tmp = pd.read_csv(review_dir+f, parse_dates=['opening_date', 'publication_date', 'date_updated'])\n",
    "    df = pd.concat([df, tmp], axis=0)"
   ]
  },
  {
   "cell_type": "code",
   "execution_count": 4,
   "metadata": {},
   "outputs": [
    {
     "data": {
      "text/plain": [
       "28154"
      ]
     },
     "execution_count": 4,
     "metadata": {},
     "output_type": "execute_result"
    }
   ],
   "source": [
    "len(df)"
   ]
  },
  {
   "cell_type": "code",
   "execution_count": 5,
   "metadata": {},
   "outputs": [
    {
     "data": {
      "text/plain": [
       "28144"
      ]
     },
     "execution_count": 5,
     "metadata": {},
     "output_type": "execute_result"
    }
   ],
   "source": [
    "len(df.drop_duplicates())"
   ]
  },
  {
   "cell_type": "code",
   "execution_count": 6,
   "metadata": {},
   "outputs": [
    {
     "data": {
      "text/html": [
       "<div>\n",
       "<style scoped>\n",
       "    .dataframe tbody tr th:only-of-type {\n",
       "        vertical-align: middle;\n",
       "    }\n",
       "\n",
       "    .dataframe tbody tr th {\n",
       "        vertical-align: top;\n",
       "    }\n",
       "\n",
       "    .dataframe thead th {\n",
       "        text-align: right;\n",
       "    }\n",
       "</style>\n",
       "<table border=\"1\" class=\"dataframe\">\n",
       "  <thead>\n",
       "    <tr style=\"text-align: right;\">\n",
       "      <th></th>\n",
       "      <th>display_title</th>\n",
       "      <th>headline</th>\n",
       "      <th>byline</th>\n",
       "      <th>link</th>\n",
       "      <th>mpaa_rating</th>\n",
       "      <th>opening_date</th>\n",
       "      <th>publication_date</th>\n",
       "      <th>date_updated</th>\n",
       "      <th>critics_pick</th>\n",
       "      <th>summary_short</th>\n",
       "    </tr>\n",
       "  </thead>\n",
       "  <tbody>\n",
       "    <tr>\n",
       "      <th>0</th>\n",
       "      <td>Who Will Write Our History</td>\n",
       "      <td>‘Who Will Write Our History’ Review: A Vital H...</td>\n",
       "      <td>KEN JAWOROWSKI</td>\n",
       "      <td>http://www.nytimes.com/2019/01/17/movies/who-w...</td>\n",
       "      <td>NaN</td>\n",
       "      <td>2018-07-21</td>\n",
       "      <td>2019-01-17</td>\n",
       "      <td>2019-01-20 03:44:26</td>\n",
       "      <td>1</td>\n",
       "      <td>The film, directed by Roberta Grossman, tells ...</td>\n",
       "    </tr>\n",
       "    <tr>\n",
       "      <th>1</th>\n",
       "      <td>Don't Come Back from the Moon</td>\n",
       "      <td>‘Don’t Come Back From the Moon’ Review: When M...</td>\n",
       "      <td>JEANNETTE CATSOULIS</td>\n",
       "      <td>http://www.nytimes.com/2019/01/17/movies/dont-...</td>\n",
       "      <td>NaN</td>\n",
       "      <td>2019-01-18</td>\n",
       "      <td>2019-01-17</td>\n",
       "      <td>2019-01-20 03:44:25</td>\n",
       "      <td>1</td>\n",
       "      <td>Blending shimmering photography and a compassi...</td>\n",
       "    </tr>\n",
       "    <tr>\n",
       "      <th>2</th>\n",
       "      <td>Solo</td>\n",
       "      <td>‘Solo’ Review: Alone, Like All the Others</td>\n",
       "      <td>SEAN T. COLLINS</td>\n",
       "      <td>http://www.nytimes.com/2019/01/17/movies/solo-...</td>\n",
       "      <td>NaN</td>\n",
       "      <td>nan</td>\n",
       "      <td>2019-01-17</td>\n",
       "      <td>2019-01-17 22:56:02</td>\n",
       "      <td>0</td>\n",
       "      <td>With this opulent Spanish survival saga, Netfl...</td>\n",
       "    </tr>\n",
       "    <tr>\n",
       "      <th>3</th>\n",
       "      <td>Glass</td>\n",
       "      <td>‘Glass’ Movie Review: A Nutty Ride With M. Nig...</td>\n",
       "      <td>MANOHLA DARGIS</td>\n",
       "      <td>http://www.nytimes.com/2019/01/17/movies/glass...</td>\n",
       "      <td>PG-13</td>\n",
       "      <td>2019-01-18</td>\n",
       "      <td>2019-01-17</td>\n",
       "      <td>2019-01-20 03:44:27</td>\n",
       "      <td>0</td>\n",
       "      <td>In his enjoyable, messy sequel to “Unbreakable...</td>\n",
       "    </tr>\n",
       "    <tr>\n",
       "      <th>4</th>\n",
       "      <td>The Standoff at Sparrow Creek</td>\n",
       "      <td>‘The Standoff at Sparrow Creek’ Review: Findin...</td>\n",
       "      <td>BEN KENIGSBERG</td>\n",
       "      <td>http://www.nytimes.com/2019/01/17/movies/the-s...</td>\n",
       "      <td>Not Rated</td>\n",
       "      <td>2019-01-18</td>\n",
       "      <td>2019-01-17</td>\n",
       "      <td>2019-01-20 03:44:26</td>\n",
       "      <td>0</td>\n",
       "      <td>The film, written and directed by Henry Dunham...</td>\n",
       "    </tr>\n",
       "  </tbody>\n",
       "</table>\n",
       "</div>"
      ],
      "text/plain": [
       "                   display_title  \\\n",
       "0     Who Will Write Our History   \n",
       "1  Don't Come Back from the Moon   \n",
       "2                           Solo   \n",
       "3                          Glass   \n",
       "4  The Standoff at Sparrow Creek   \n",
       "\n",
       "                                            headline               byline  \\\n",
       "0  ‘Who Will Write Our History’ Review: A Vital H...       KEN JAWOROWSKI   \n",
       "1  ‘Don’t Come Back From the Moon’ Review: When M...  JEANNETTE CATSOULIS   \n",
       "2          ‘Solo’ Review: Alone, Like All the Others      SEAN T. COLLINS   \n",
       "3  ‘Glass’ Movie Review: A Nutty Ride With M. Nig...       MANOHLA DARGIS   \n",
       "4  ‘The Standoff at Sparrow Creek’ Review: Findin...       BEN KENIGSBERG   \n",
       "\n",
       "                                                link mpaa_rating opening_date  \\\n",
       "0  http://www.nytimes.com/2019/01/17/movies/who-w...         NaN   2018-07-21   \n",
       "1  http://www.nytimes.com/2019/01/17/movies/dont-...         NaN   2019-01-18   \n",
       "2  http://www.nytimes.com/2019/01/17/movies/solo-...         NaN          nan   \n",
       "3  http://www.nytimes.com/2019/01/17/movies/glass...       PG-13   2019-01-18   \n",
       "4  http://www.nytimes.com/2019/01/17/movies/the-s...   Not Rated   2019-01-18   \n",
       "\n",
       "  publication_date        date_updated  critics_pick  \\\n",
       "0       2019-01-17 2019-01-20 03:44:26             1   \n",
       "1       2019-01-17 2019-01-20 03:44:25             1   \n",
       "2       2019-01-17 2019-01-17 22:56:02             0   \n",
       "3       2019-01-17 2019-01-20 03:44:27             0   \n",
       "4       2019-01-17 2019-01-20 03:44:26             0   \n",
       "\n",
       "                                       summary_short  \n",
       "0  The film, directed by Roberta Grossman, tells ...  \n",
       "1  Blending shimmering photography and a compassi...  \n",
       "2  With this opulent Spanish survival saga, Netfl...  \n",
       "3  In his enjoyable, messy sequel to “Unbreakable...  \n",
       "4  The film, written and directed by Henry Dunham...  "
      ]
     },
     "execution_count": 6,
     "metadata": {},
     "output_type": "execute_result"
    }
   ],
   "source": [
    "df.head()"
   ]
  },
  {
   "cell_type": "code",
   "execution_count": 7,
   "metadata": {},
   "outputs": [
    {
     "data": {
      "text/plain": [
       "display_title               object\n",
       "headline                    object\n",
       "byline                      object\n",
       "link                        object\n",
       "mpaa_rating                 object\n",
       "opening_date                object\n",
       "publication_date    datetime64[ns]\n",
       "date_updated        datetime64[ns]\n",
       "critics_pick                 int64\n",
       "summary_short               object\n",
       "dtype: object"
      ]
     },
     "execution_count": 7,
     "metadata": {},
     "output_type": "execute_result"
    }
   ],
   "source": [
    "df.dtypes"
   ]
  },
  {
   "cell_type": "code",
   "execution_count": 8,
   "metadata": {},
   "outputs": [
    {
     "data": {
      "text/html": [
       "<div>\n",
       "<style scoped>\n",
       "    .dataframe tbody tr th:only-of-type {\n",
       "        vertical-align: middle;\n",
       "    }\n",
       "\n",
       "    .dataframe tbody tr th {\n",
       "        vertical-align: top;\n",
       "    }\n",
       "\n",
       "    .dataframe thead th {\n",
       "        text-align: right;\n",
       "    }\n",
       "</style>\n",
       "<table border=\"1\" class=\"dataframe\">\n",
       "  <thead>\n",
       "    <tr style=\"text-align: right;\">\n",
       "      <th></th>\n",
       "      <th>critics_pick</th>\n",
       "    </tr>\n",
       "  </thead>\n",
       "  <tbody>\n",
       "    <tr>\n",
       "      <th>count</th>\n",
       "      <td>28154.000000</td>\n",
       "    </tr>\n",
       "    <tr>\n",
       "      <th>mean</th>\n",
       "      <td>0.122753</td>\n",
       "    </tr>\n",
       "    <tr>\n",
       "      <th>std</th>\n",
       "      <td>0.328160</td>\n",
       "    </tr>\n",
       "    <tr>\n",
       "      <th>min</th>\n",
       "      <td>0.000000</td>\n",
       "    </tr>\n",
       "    <tr>\n",
       "      <th>25%</th>\n",
       "      <td>0.000000</td>\n",
       "    </tr>\n",
       "    <tr>\n",
       "      <th>50%</th>\n",
       "      <td>0.000000</td>\n",
       "    </tr>\n",
       "    <tr>\n",
       "      <th>75%</th>\n",
       "      <td>0.000000</td>\n",
       "    </tr>\n",
       "    <tr>\n",
       "      <th>max</th>\n",
       "      <td>1.000000</td>\n",
       "    </tr>\n",
       "  </tbody>\n",
       "</table>\n",
       "</div>"
      ],
      "text/plain": [
       "       critics_pick\n",
       "count  28154.000000\n",
       "mean       0.122753\n",
       "std        0.328160\n",
       "min        0.000000\n",
       "25%        0.000000\n",
       "50%        0.000000\n",
       "75%        0.000000\n",
       "max        1.000000"
      ]
     },
     "execution_count": 8,
     "metadata": {},
     "output_type": "execute_result"
    }
   ],
   "source": [
    "df.describe()"
   ]
  },
  {
   "cell_type": "code",
   "execution_count": 12,
   "metadata": {},
   "outputs": [],
   "source": [
    "df.drop_duplicates().to_csv('nyt_movie_reviews.csv', index=None)"
   ]
  },
  {
   "cell_type": "code",
   "execution_count": 13,
   "metadata": {},
   "outputs": [],
   "source": [
    "df = pd.read_csv('nyt_movie_reviews.csv', parse_dates=['opening_date', 'publication_date', 'date_updated'])"
   ]
  },
  {
   "cell_type": "code",
   "execution_count": 14,
   "metadata": {},
   "outputs": [
    {
     "data": {
      "text/plain": [
       "display_title               object\n",
       "headline                    object\n",
       "byline                      object\n",
       "link                        object\n",
       "mpaa_rating                 object\n",
       "opening_date                object\n",
       "publication_date    datetime64[ns]\n",
       "date_updated        datetime64[ns]\n",
       "critics_pick                 int64\n",
       "summary_short               object\n",
       "dtype: object"
      ]
     },
     "execution_count": 14,
     "metadata": {},
     "output_type": "execute_result"
    }
   ],
   "source": [
    "df.dtypes"
   ]
  },
  {
   "cell_type": "code",
   "execution_count": 116,
   "metadata": {},
   "outputs": [],
   "source": [
    "tmp = df['opening_date'].replace('nan', np.NaN).replace('0000-00-00', np.NaN)"
   ]
  },
  {
   "cell_type": "code",
   "execution_count": 119,
   "metadata": {},
   "outputs": [],
   "source": [
    "tmp2 = tmp.str.extract('(\\d\\d\\d\\d)-(\\d\\d)-(\\d\\d)(.*)')"
   ]
  },
  {
   "cell_type": "code",
   "execution_count": 120,
   "metadata": {},
   "outputs": [],
   "source": [
    "tmp2[1].replace('00', '01', inplace=True)\n",
    "tmp2[2].replace('00', '01', inplace=True)"
   ]
  },
  {
   "cell_type": "code",
   "execution_count": 123,
   "metadata": {},
   "outputs": [],
   "source": [
    "df['opening_date'] = pd.to_datetime(tmp2[0].str.cat([tmp2[1], tmp2[2]], sep='-'))"
   ]
  },
  {
   "cell_type": "code",
   "execution_count": 124,
   "metadata": {},
   "outputs": [],
   "source": [
    "df.drop_duplicates().to_csv('nyt_movie_reviews.csv', index=None)"
   ]
  }
 ],
 "metadata": {
  "kernelspec": {
   "display_name": "Python 3",
   "language": "python",
   "name": "python3"
  },
  "language_info": {
   "codemirror_mode": {
    "name": "ipython",
    "version": 3
   },
   "file_extension": ".py",
   "mimetype": "text/x-python",
   "name": "python",
   "nbconvert_exporter": "python",
   "pygments_lexer": "ipython3",
   "version": "3.5.6"
  }
 },
 "nbformat": 4,
 "nbformat_minor": 2
}
