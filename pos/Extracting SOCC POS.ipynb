{
 "cells": [
  {
   "cell_type": "code",
   "execution_count": 1,
   "metadata": {},
   "outputs": [],
   "source": [
    "import os\n",
    "import csv\n",
    "import spacy\n",
    "import numpy as np\n",
    "import pandas as pd\n",
    "spacy.load('en_core_web_sm')\n",
    "from collections import defaultdict\n",
    "\n",
    "#parser = English()\n",
    "nlp = spacy.load('en')"
   ]
  },
  {
   "cell_type": "code",
   "execution_count": 2,
   "metadata": {},
   "outputs": [],
   "source": [
    "file = 'SOCC/raw/gnm_comments.csv'\n",
    "df = pd.read_csv(file, low_memory=False)\n",
    "df['new_timestamp'] = pd.to_datetime(df['timestamp'], unit='ms')\n",
    "df['new_post_time'] = pd.to_datetime(df['post_time'], errors='coerce')"
   ]
  },
  {
   "cell_type": "code",
   "execution_count": 3,
   "metadata": {},
   "outputs": [],
   "source": [
    "df_timestamped = df.dropna(how='all', subset=['new_timestamp', 'new_post_time'])"
   ]
  },
  {
   "cell_type": "code",
   "execution_count": 4,
   "metadata": {},
   "outputs": [
    {
     "name": "stdout",
     "output_type": "stream",
     "text": [
      "Total number of comments: 663173\n",
      "Total number of timestamped comments: 662933\n",
      "Missing timestamps: 240\n"
     ]
    }
   ],
   "source": [
    "print('Total number of comments:', len(df.index))\n",
    "print('Total number of timestamped comments:', len(df_timestamped.index))\n",
    "print('Missing timestamps:', len(df.index) - len(df_timestamped.index))"
   ]
  },
  {
   "cell_type": "code",
   "execution_count": 5,
   "metadata": {},
   "outputs": [
    {
     "data": {
      "text/html": [
       "<div>\n",
       "<style scoped>\n",
       "    .dataframe tbody tr th:only-of-type {\n",
       "        vertical-align: middle;\n",
       "    }\n",
       "\n",
       "    .dataframe tbody tr th {\n",
       "        vertical-align: top;\n",
       "    }\n",
       "\n",
       "    .dataframe thead th {\n",
       "        text-align: right;\n",
       "    }\n",
       "</style>\n",
       "<table border=\"1\" class=\"dataframe\">\n",
       "  <thead>\n",
       "    <tr style=\"text-align: right;\">\n",
       "      <th></th>\n",
       "      <th>article_id</th>\n",
       "      <th>comment_counter</th>\n",
       "      <th>comment_id</th>\n",
       "      <th>author</th>\n",
       "      <th>post_time</th>\n",
       "      <th>timestamp</th>\n",
       "      <th>comment_text</th>\n",
       "      <th>reactions</th>\n",
       "      <th>replies</th>\n",
       "      <th>TotalVotes</th>\n",
       "      <th>negVotes</th>\n",
       "      <th>posVotes</th>\n",
       "      <th>new_timestamp</th>\n",
       "      <th>new_post_time</th>\n",
       "    </tr>\n",
       "  </thead>\n",
       "  <tbody>\n",
       "    <tr>\n",
       "      <th>644186</th>\n",
       "      <td>13702405</td>\n",
       "      <td>source2_13702405_21</td>\n",
       "      <td>160056_0</td>\n",
       "      <td>PABLO53</td>\n",
       "      <td>Feb 2</td>\n",
       "      <td>NaN</td>\n",
       "      <td>The the number of comments on this column (or ...</td>\n",
       "      <td>{}</td>\n",
       "      <td>No</td>\n",
       "      <td>NaN</td>\n",
       "      <td>NaN</td>\n",
       "      <td>NaN</td>\n",
       "      <td>NaT</td>\n",
       "      <td>NaT</td>\n",
       "    </tr>\n",
       "    <tr>\n",
       "      <th>644200</th>\n",
       "      <td>13827141</td>\n",
       "      <td>source2_13827141_10</td>\n",
       "      <td>212029_0</td>\n",
       "      <td>DarrenMacKay</td>\n",
       "      <td>8 days ago</td>\n",
       "      <td>NaN</td>\n",
       "      <td>Unfortunately, Citizens cannot hold the Govern...</td>\n",
       "      <td>{}</td>\n",
       "      <td>No</td>\n",
       "      <td>NaN</td>\n",
       "      <td>NaN</td>\n",
       "      <td>NaN</td>\n",
       "      <td>NaT</td>\n",
       "      <td>NaT</td>\n",
       "    </tr>\n",
       "    <tr>\n",
       "      <th>645257</th>\n",
       "      <td>19071121</td>\n",
       "      <td>source2_19071121_156</td>\n",
       "      <td>909071_0</td>\n",
       "      <td>Slightly Concerned</td>\n",
       "      <td>Feb 7</td>\n",
       "      <td>NaN</td>\n",
       "      <td>There can't be Catholic schools in Canada, if ...</td>\n",
       "      <td>{u'reaction_list': [], u'reaction_counts': [u'...</td>\n",
       "      <td>No</td>\n",
       "      <td>NaN</td>\n",
       "      <td>NaN</td>\n",
       "      <td>NaN</td>\n",
       "      <td>NaT</td>\n",
       "      <td>NaT</td>\n",
       "    </tr>\n",
       "    <tr>\n",
       "      <th>645339</th>\n",
       "      <td>19704906</td>\n",
       "      <td>source2_19704906_33</td>\n",
       "      <td>722020_0</td>\n",
       "      <td>PWup</td>\n",
       "      <td>Jan 2</td>\n",
       "      <td>NaN</td>\n",
       "      <td>The 'real world'? Why would I want to live in ...</td>\n",
       "      <td>{}</td>\n",
       "      <td>No</td>\n",
       "      <td>NaN</td>\n",
       "      <td>NaN</td>\n",
       "      <td>NaN</td>\n",
       "      <td>NaT</td>\n",
       "      <td>NaT</td>\n",
       "    </tr>\n",
       "    <tr>\n",
       "      <th>645340</th>\n",
       "      <td>19704906</td>\n",
       "      <td>source2_19704906_51</td>\n",
       "      <td>434069_0</td>\n",
       "      <td>JDS363</td>\n",
       "      <td>Jan 1</td>\n",
       "      <td>NaN</td>\n",
       "      <td>Wynne, Notley and Trudeau should all be voted ...</td>\n",
       "      <td>{}</td>\n",
       "      <td>No</td>\n",
       "      <td>NaN</td>\n",
       "      <td>NaN</td>\n",
       "      <td>NaN</td>\n",
       "      <td>NaT</td>\n",
       "      <td>NaT</td>\n",
       "    </tr>\n",
       "  </tbody>\n",
       "</table>\n",
       "</div>"
      ],
      "text/plain": [
       "        article_id       comment_counter comment_id              author  \\\n",
       "644186    13702405   source2_13702405_21   160056_0             PABLO53   \n",
       "644200    13827141   source2_13827141_10   212029_0        DarrenMacKay   \n",
       "645257    19071121  source2_19071121_156   909071_0  Slightly Concerned   \n",
       "645339    19704906   source2_19704906_33   722020_0                PWup   \n",
       "645340    19704906   source2_19704906_51   434069_0              JDS363   \n",
       "\n",
       "         post_time  timestamp  \\\n",
       "644186       Feb 2        NaN   \n",
       "644200  8 days ago        NaN   \n",
       "645257       Feb 7        NaN   \n",
       "645339       Jan 2        NaN   \n",
       "645340       Jan 1        NaN   \n",
       "\n",
       "                                             comment_text  \\\n",
       "644186  The the number of comments on this column (or ...   \n",
       "644200  Unfortunately, Citizens cannot hold the Govern...   \n",
       "645257  There can't be Catholic schools in Canada, if ...   \n",
       "645339  The 'real world'? Why would I want to live in ...   \n",
       "645340  Wynne, Notley and Trudeau should all be voted ...   \n",
       "\n",
       "                                                reactions replies  TotalVotes  \\\n",
       "644186                                                 {}      No         NaN   \n",
       "644200                                                 {}      No         NaN   \n",
       "645257  {u'reaction_list': [], u'reaction_counts': [u'...      No         NaN   \n",
       "645339                                                 {}      No         NaN   \n",
       "645340                                                 {}      No         NaN   \n",
       "\n",
       "        negVotes  posVotes new_timestamp new_post_time  \n",
       "644186       NaN       NaN           NaT           NaT  \n",
       "644200       NaN       NaN           NaT           NaT  \n",
       "645257       NaN       NaN           NaT           NaT  \n",
       "645339       NaN       NaN           NaT           NaT  \n",
       "645340       NaN       NaN           NaT           NaT  "
      ]
     },
     "execution_count": 5,
     "metadata": {},
     "output_type": "execute_result"
    }
   ],
   "source": [
    "df[df['new_timestamp'].isna() & df['new_post_time'].isna()].head()"
   ]
  },
  {
   "cell_type": "code",
   "execution_count": 6,
   "metadata": {},
   "outputs": [],
   "source": [
    "timestamps = pd.concat([df_timestamped['new_timestamp'], df_timestamped['new_post_time']]).dropna()"
   ]
  },
  {
   "cell_type": "code",
   "execution_count": 7,
   "metadata": {},
   "outputs": [],
   "source": [
    "timestamp_list = timestamps.dt.year.astype('str').str.cat(timestamps.dt.month.astype('str').str.pad(2, fillchar='0'), sep='-').values\n",
    "flat_list = df_timestamped['comment_text'].values"
   ]
  },
  {
   "cell_type": "code",
   "execution_count": 8,
   "metadata": {},
   "outputs": [],
   "source": [
    "tokens = []\n",
    "pos = []\n",
    "freq = 0\n",
    "adj_count = 0\n",
    "\n",
    "for doc in nlp.pipe(flat_list, batch_size=50, n_threads=80):\n",
    "    if doc.is_parsed:\n",
    "        tokens.append([n.text for n in doc])\n",
    "        pos.append([n.pos_ for n in doc])\n",
    "    else:\n",
    "        # to make sure the indices will line up\n",
    "        tokens.append(None)\n",
    "        pos.append(None)"
   ]
  },
  {
   "cell_type": "code",
   "execution_count": 9,
   "metadata": {},
   "outputs": [],
   "source": [
    "with open('socc_wordcount.csv', 'w+') as f:\n",
    "    f.write(str(sum([len(sublist) for sublist in pos])))"
   ]
  },
  {
   "cell_type": "code",
   "execution_count": 10,
   "metadata": {},
   "outputs": [],
   "source": [
    "adv_adj_dict = defaultdict(int)\n",
    "adv_adj_timestamp_dict = defaultdict(int)\n",
    "adj_timestamp_dict = defaultdict(int)\n",
    "\n",
    "for comment_index, comment in enumerate(pos):\n",
    "    length = len(comment)\n",
    "    timestamp = timestamp_list[comment_index]\n",
    "    for word_index, part in enumerate(comment):\n",
    "        if (part == 'ADJ'):\n",
    "            adj_count += 1\n",
    "            adj_timestamp_dict[timestamp] += 1\n",
    "        \n",
    "        # for each adverb ending in -ly\n",
    "        if (part == 'ADV') and tokens[comment_index][word_index][-2:] == 'ly':\n",
    "            # if the next word is adj\n",
    "            if (word_index+1 < length):\n",
    "                if (comment[word_index+1] == 'ADJ'):\n",
    "                    # count it\n",
    "                    freq = freq + 1\n",
    "                    # dict key is 'word1 word2' in lowercase\n",
    "                    key = tokens[comment_index][word_index].lower() + \" \" + tokens[comment_index][word_index+1].lower()\n",
    "                    # add to the dict\n",
    "                    adv_adj_dict[key] += 1\n",
    "                    # count for the timestamp as well\n",
    "                    adv_adj_timestamp_dict[timestamp] += 1"
   ]
  },
  {
   "cell_type": "code",
   "execution_count": 11,
   "metadata": {},
   "outputs": [],
   "source": [
    "with open(\"socc_overview.txt\", \"w+\") as f:\n",
    "    f.write(\"Frequency: \" + str(freq) + \"\\n\")\n",
    "    f.write(\"Adjective count: \" + str(adj_count) + \"\\n\")\n",
    "    f.write(\"Number of tokens: \" + str(sum([len(sublist) for sublist in pos])) + \"\\n\")\n",
    "    types = set([i for sublist in tokens for i in sublist])\n",
    "    f.write(\"Overall lexical diversity: \" + str(len(types) / len(tokens)) + \"\\n\")"
   ]
  },
  {
   "cell_type": "code",
   "execution_count": 14,
   "metadata": {},
   "outputs": [],
   "source": [
    "pos_list = []\n",
    "for comment_index,text in enumerate(pos):\n",
    "    for word_index,part in enumerate(text):\n",
    "        pos_list.append([comment_index, tokens[comment_index][word_index], part])"
   ]
  },
  {
   "cell_type": "code",
   "execution_count": 19,
   "metadata": {},
   "outputs": [],
   "source": [
    "pd.DataFrame(pos_list).rename(columns={0 : 'text_num', 1 : 'token', 2 : 'pos'}).to_csv('SOCC_pos.csv')"
   ]
  }
 ],
 "metadata": {
  "kernelspec": {
   "display_name": "Python 3",
   "language": "python",
   "name": "python3"
  },
  "language_info": {
   "codemirror_mode": {
    "name": "ipython",
    "version": 3
   },
   "file_extension": ".py",
   "mimetype": "text/x-python",
   "name": "python",
   "nbconvert_exporter": "python",
   "pygments_lexer": "ipython3",
   "version": "3.5.6"
  }
 },
 "nbformat": 4,
 "nbformat_minor": 2
}
