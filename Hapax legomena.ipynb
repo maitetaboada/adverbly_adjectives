{
 "cells": [
  {
   "cell_type": "code",
   "execution_count": 1,
   "metadata": {},
   "outputs": [],
   "source": [
    "import numpy as np\n",
    "import pandas as pd\n",
    "import itertools\n",
    "import os, re\n",
    "from collections import defaultdict"
   ]
  },
  {
   "cell_type": "code",
   "execution_count": 2,
   "metadata": {},
   "outputs": [],
   "source": [
    "def makeDirs(dirs):\n",
    "    curr_path = '.'\n",
    "    for d in dirs:\n",
    "        os.makedirs(curr_path+'/'+d, exist_ok=True)\n",
    "        curr_path = curr_path+'/'+d"
   ]
  },
  {
   "cell_type": "code",
   "execution_count": 3,
   "metadata": {},
   "outputs": [],
   "source": [
    "def getHapax(filepath):\n",
    "    split = filepath.split('/')\n",
    "    fname = split[-1]\n",
    "    dir_structure = ['hapax_legomena']\n",
    "    dir_structure += split[1:-1]\n",
    "    makeDirs(dir_structure)\n",
    "    hapax_path = '/'.join(dir_structure) + '/' + fname\n",
    "    print(hapax_path)\n",
    "    \n",
    "    df = pd.read_csv(filepath)\n",
    "    df[df['counts'] == 1].to_csv(hapax_path)"
   ]
  },
  {
   "cell_type": "code",
   "execution_count": 4,
   "metadata": {},
   "outputs": [
    {
     "name": "stdout",
     "output_type": "stream",
     "text": [
      "hapax_legomena/Cornell/all_pairs.csv\n",
      "hapax_legomena/Movies/all_pairs.csv\n",
      "hapax_legomena/sfu_review/genres/HOTELS_pairs.csv\n",
      "hapax_legomena/sfu_review/genres/MOVIES_pairs.csv\n",
      "hapax_legomena/sfu_review/genres/BOOKS_pairs.csv\n",
      "hapax_legomena/sfu_review/genres/COOKWARE_pairs.csv\n",
      "hapax_legomena/sfu_review/genres/PHONES_pairs.csv\n",
      "hapax_legomena/sfu_review/genres/CARS_pairs.csv\n",
      "hapax_legomena/sfu_review/genres/COMPUTERS_pairs.csv\n",
      "hapax_legomena/sfu_review/genres/MUSIC_pairs.csv\n",
      "hapax_legomena/sfu_review/all_pairs.csv\n",
      "hapax_legomena/COCA/genres/Magazine_pairs.csv\n",
      "hapax_legomena/COCA/genres/Academic_pairs.csv\n",
      "hapax_legomena/COCA/genres/Fiction_pairs.csv\n",
      "hapax_legomena/COCA/genres/News_pairs.csv\n",
      "hapax_legomena/COCA/genres/Spoken_pairs.csv\n",
      "hapax_legomena/COCA/all_pairs.csv\n",
      "hapax_legomena/SOCC/all_pairs.csv\n",
      "hapax_legomena/CORE/genres/Interactive_Discussion_pairs.csv\n",
      "hapax_legomena/CORE/genres/Information_Persuasion_pairs.csv\n",
      "hapax_legomena/CORE/genres/Narrative_pairs.csv\n",
      "hapax_legomena/CORE/genres/Opinion_pairs.csv\n",
      "hapax_legomena/CORE/genres/Lyrical_pairs.csv\n",
      "hapax_legomena/CORE/genres/Information_Description_pairs.csv\n",
      "hapax_legomena/CORE/genres/How-to__Instructional_pairs.csv\n",
      "hapax_legomena/CORE/genres/Spoken_pairs.csv\n",
      "hapax_legomena/CORE/all_pairs.csv\n"
     ]
    }
   ],
   "source": [
    "basepath = 'adverbly_adjectives'\n",
    "files = []\n",
    "for corpus in os.listdir(basepath):\n",
    "    for f_or_d in os.listdir(basepath+'/'+corpus):\n",
    "        if os.path.isdir(basepath+'/'+corpus+'/'+f_or_d):\n",
    "            genres_list = [basepath+'/'+corpus+'/'+f_or_d+'/'+f for f in os.listdir(basepath+'/'+corpus+'/'+f_or_d)]\n",
    "            files += genres_list\n",
    "        else:\n",
    "            assert os.path.isfile(basepath+'/'+corpus+'/'+f_or_d)\n",
    "            file = [basepath+'/'+corpus+'/'+f_or_d]\n",
    "            files += file\n",
    "            \n",
    "for f in files:\n",
    "#     print(f)\n",
    "    getHapax(f)"
   ]
  }
 ],
 "metadata": {
  "kernelspec": {
   "display_name": "Python 3",
   "language": "python",
   "name": "python3"
  },
  "language_info": {
   "codemirror_mode": {
    "name": "ipython",
    "version": 3
   },
   "file_extension": ".py",
   "mimetype": "text/x-python",
   "name": "python",
   "nbconvert_exporter": "python",
   "pygments_lexer": "ipython3",
   "version": "3.5.6"
  }
 },
 "nbformat": 4,
 "nbformat_minor": 2
}
